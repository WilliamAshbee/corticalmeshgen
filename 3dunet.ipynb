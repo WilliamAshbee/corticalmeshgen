{
  "nbformat": 4,
  "nbformat_minor": 0,
  "metadata": {
    "colab": {
      "name": "3dunet.ipynb",
      "provenance": [],
      "authorship_tag": "ABX9TyPJodjFMR2m4lAI46iaqgSe",
      "include_colab_link": true
    },
    "kernelspec": {
      "name": "python3",
      "display_name": "Python 3"
    },
    "language_info": {
      "name": "python"
    }
  },
  "cells": [
    {
      "cell_type": "markdown",
      "metadata": {
        "id": "view-in-github",
        "colab_type": "text"
      },
      "source": [
        "<a href=\"https://colab.research.google.com/github/WilliamAshbee/corticalmeshgen/blob/main/3dunet.ipynb\" target=\"_parent\"><img src=\"https://colab.research.google.com/assets/colab-badge.svg\" alt=\"Open In Colab\"/></a>"
      ]
    },
    {
      "cell_type": "code",
      "execution_count": null,
      "metadata": {
        "id": "m06uh6Q3bQT4"
      },
      "outputs": [],
      "source": [
        "#https://github.com/xf4j/brats17/blob/master/model.py"
      ]
    },
    {
      "cell_type": "code",
      "source": [
        "#https://github.com/ellisdg/3DUnetCNN.git"
      ],
      "metadata": {
        "id": "kX9BO3fLbY78"
      },
      "execution_count": null,
      "outputs": []
    },
    {
      "cell_type": "code",
      "source": [
        "#!pip install git+https://github.com/ellisdg/3DUnetCNN.git"
      ],
      "metadata": {
        "colab": {
          "base_uri": "https://localhost:8080/"
        },
        "id": "JTpXBjLmb-Pi",
        "outputId": "9dd46299-cc29-49bd-a05f-87621c4c0917"
      },
      "execution_count": null,
      "outputs": [
        {
          "output_type": "stream",
          "name": "stdout",
          "text": [
            "Collecting git+https://github.com/ellisdg/3DUnetCNN.git\n",
            "  Cloning https://github.com/ellisdg/3DUnetCNN.git to /tmp/pip-req-build-kx9n3650\n",
            "  Running command git clone -q https://github.com/ellisdg/3DUnetCNN.git /tmp/pip-req-build-kx9n3650\n",
            "\u001b[31mERROR: File \"setup.py\" not found for legacy project git+https://github.com/ellisdg/3DUnetCNN.git.\u001b[0m\n"
          ]
        }
      ]
    },
    {
      "cell_type": "code",
      "source": [
        "!python -m pip install git+https://github.com/WilliamAshbee/3DUnetCNN.git"
      ],
      "metadata": {
        "id": "EGIh53tzfEXC",
        "colab": {
          "base_uri": "https://localhost:8080/"
        },
        "outputId": "40b7e4a8-1f08-4d32-8403-bfb519faf085"
      },
      "execution_count": 1,
      "outputs": [
        {
          "output_type": "stream",
          "name": "stdout",
          "text": [
            "Collecting git+https://github.com/WilliamAshbee/3DUnetCNN.git\n",
            "  Cloning https://github.com/WilliamAshbee/3DUnetCNN.git to /tmp/pip-req-build-08hc8sb4\n",
            "  Running command git clone -q https://github.com/WilliamAshbee/3DUnetCNN.git /tmp/pip-req-build-08hc8sb4\n",
            "Building wheels for collected packages: 3DUnetCNN\n",
            "  Building wheel for 3DUnetCNN (setup.py) ... \u001b[?25l\u001b[?25hdone\n",
            "  Created wheel for 3DUnetCNN: filename=3DUnetCNN-1.0-py3-none-any.whl size=99725 sha256=26e03e1b10437294f1c366471f2250da84796c7dda40a1427ddae2277da11fa0\n",
            "  Stored in directory: /tmp/pip-ephem-wheel-cache-0hfaichf/wheels/9b/01/3a/7f941bd37b62dfc93465e53c87b7db1dfb5e7ecb0ee2ca3fd4\n",
            "Successfully built 3DUnetCNN\n",
            "Installing collected packages: 3DUnetCNN\n",
            "Successfully installed 3DUnetCNN-1.0\n"
          ]
        }
      ]
    },
    {
      "cell_type": "code",
      "source": [
        ""
      ],
      "metadata": {
        "id": "zqxdeXqYNEI4"
      },
      "execution_count": null,
      "outputs": []
    }
  ]
}